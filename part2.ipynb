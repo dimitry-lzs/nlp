{
  "cells": [
    {
      "cell_type": "code",
      "execution_count": 12,
      "metadata": {
        "_cell_guid": "b1076dfc-b9ad-4769-8c92-a6c4dae69d19",
        "_uuid": "8f2839f25d086af736a60e9eeb907d3b93b6e0e5",
        "execution": {
          "iopub.execute_input": "2025-06-19T11:04:21.203368Z",
          "iopub.status.busy": "2025-06-19T11:04:21.203010Z",
          "iopub.status.idle": "2025-06-19T11:04:21.210722Z",
          "shell.execute_reply": "2025-06-19T11:04:21.209611Z",
          "shell.execute_reply.started": "2025-06-19T11:04:21.203342Z"
        },
        "id": "YIOhUwxQELjh",
        "trusted": true
      },
      "outputs": [],
      "source": [
        "original_text = \"\"\"\n",
        "Today is our dragon boat festival, in our Chinese culture, to celebrate it with all safe and great in our lives. Hope you too, to enjoy it as my deepest wishes.\n",
        "Thank your message to show our words to the doctor, as his next contract checking, to all of us.\n",
        "I got this message to see the approved message. In fact, I have received the message from the professor, to show me, this, a couple of days ago. I am very appreciated the full support of the professor, for our Springer proceedings publication\n",
        "\"\"\"\n",
        "\n",
        "reconstructed_pegasus = \"\"\"\n",
        "Today is the dragon boat festival in China and we want to celebrate it with joy.I hope you enjoy it as much as I did.\n",
        "Thank you for the message, it will show our words to the doctor.\n",
        "After getting this message, I saw the approved one.The professor sent a message to me a few days ago.The Springer proceedings were supported by the professor.\n",
        "\"\"\"\n",
        "\n",
        "reconstructed_bart = \"\"\"\n",
        "Today is our dragon boat festival, in our Chinese culture, to celebrate it with all safe and great inour lives.Hope you too, to enjoy it as my deepest wishes.\n",
        "Thank your message to show our words to the doctor, as his next contract check, to all of us. Thank you.\n",
        "I got this message to see the approved message.In fact, I have received the message from the ex-professor, to show me, this, a couple of days ago.I am very appreciated the full support of the board of directors, including the co-professor, for our Springer proceedings.\n",
        "\"\"\"\n",
        "\n",
        "reconstructed_t5 = \"\"\"\n",
        "dragon boat festival. In our Chinese culture, today is our dragon boat festival, in our dragon boat festival. In our Chinese culture, today is our dragon boat festival. In our Chinese culture, today is our dragon boat festival. In our dragon boat festival. In our dragon boat festival.too. Hope you too, to enjoy it. Hope you too, to enjoy it. it. Hope you too, to enjoy it. Hope you too, to enjoy it. Hope you too, to enjoy it. Hope you too, to enjoy it. Hope you too, toour words to show our words to show our words to show our words to show our words to show our words to show our words to show our words to show our words to show our words to show our words to show our words to show our words to show our words to show our words. I got this message to see the approved message.. I got this message to see the approved message.. I got this message to see the approved message... I got this message to see the approved message.. I got this message to see the approved message... I have received the message, from the professor, about this, a few days ago. In fact, I have received the message, from the professor, about this, a few days ago. In fact, I have received the message, from the professor, about thisthe full support. , for the full support. Thank you. , for the full support. Thank you. , thank you. , thank you. , thank you. , thank you. , thank you. , thank you. \"\"\"\n",
        "\n",
        "chatgpt_text = \"\"\"\n",
        "Today is our Dragon Boat Festival. In our Chinese culture, we celebrate it to wish for safety and greatness in our lives. I hope you can enjoy it too — this is my deepest wish.\n",
        "Thank you for your message and for showing our words to the doctor, regarding his next contract review, on behalf of all of us.\n",
        "I received the approved message. In fact, the professor had already sent it to me a couple of days ago. I truly appreciate the professor's full support for our Springer proceedings publication.\n",
        "\"\"\"\n"
      ]
    },
    {
      "cell_type": "code",
      "execution_count": 2,
      "metadata": {
        "execution": {
          "iopub.execute_input": "2025-06-19T11:04:29.044433Z",
          "iopub.status.busy": "2025-06-19T11:04:29.043527Z",
          "iopub.status.idle": "2025-06-19T11:04:29.050555Z",
          "shell.execute_reply": "2025-06-19T11:04:29.049344Z",
          "shell.execute_reply.started": "2025-06-19T11:04:29.044401Z"
        },
        "id": "8FworksgELjj",
        "trusted": true
      },
      "outputs": [],
      "source": [
        "import textstat\n",
        "\n",
        "# Text readability report\n",
        "def get_text_quality_report(text):\n",
        "    return {\n",
        "        \"Flesch Reading Ease\": textstat.flesch_reading_ease(text),\n",
        "        \"Flesch-Kincaid Grade\": textstat.flesch_kincaid_grade(text),\n",
        "        \"Gunning Fog Index\": textstat.gunning_fog(text),\n",
        "        \"SMOG Index\": textstat.smog_index(text),\n",
        "        \"Automated Readability Index\": textstat.automated_readability_index(text),\n",
        "        \"Dale-Chall Score\": textstat.dale_chall_readability_score(text),\n",
        "        \"Difficult Words\": textstat.difficult_words(text),\n",
        "        \"Lexicon Count\": textstat.lexicon_count(text),\n",
        "        \"Sentence Count\": textstat.sentence_count(text)\n",
        "    }"
      ]
    },
    {
      "cell_type": "code",
      "execution_count": 3,
      "metadata": {
        "colab": {
          "base_uri": "https://localhost:8080/"
        },
        "execution": {
          "iopub.execute_input": "2025-06-19T11:04:35.535440Z",
          "iopub.status.busy": "2025-06-19T11:04:35.535038Z",
          "iopub.status.idle": "2025-06-19T11:04:37.099016Z",
          "shell.execute_reply": "2025-06-19T11:04:37.097813Z",
          "shell.execute_reply.started": "2025-06-19T11:04:35.535413Z"
        },
        "id": "LxN1Tr0zELjk",
        "outputId": "48551d0b-6899-4486-f212-fa5d8539b4b6",
        "trusted": true
      },
      "outputs": [
        {
          "name": "stdout",
          "output_type": "stream",
          "text": [
            "\n",
            "==== Original ====\n",
            "Flesch Reading Ease: 67.38637096774197\n",
            "Flesch-Kincaid Grade: 7.710913978494627\n",
            "Gunning Fog Index: 9.210752688172043\n",
            "SMOG Index: 9.2995712137729\n",
            "Automated Readability Index: 6.98322580645161\n",
            "Dale-Chall Score: 7.970783870967742\n",
            "Difficult Words: 18\n",
            "Lexicon Count: 93\n",
            "Sentence Count: 6\n",
            "\n",
            "==== Reconstructed Pegasus ====\n",
            "Flesch Reading Ease: 78.36145833333336\n",
            "Flesch-Kincaid Grade: 4.979375000000001\n",
            "Gunning Fog Index: 8.016666666666666\n",
            "SMOG Index: 8.841846274778883\n",
            "Automated Readability Index: 4.362395833333331\n",
            "Dale-Chall Score: 7.619629166666667\n",
            "Difficult Words: 8\n",
            "Lexicon Count: 64\n",
            "Sentence Count: 6\n",
            "\n",
            "==== Reconstructed Bart ====\n",
            "Flesch Reading Ease: 66.98100877192984\n",
            "Flesch-Kincaid Grade: 7.850263157894741\n",
            "Gunning Fog Index: 9.701754385964913\n",
            "SMOG Index: 9.725611199111238\n",
            "Automated Readability Index: 8.25182456140351\n",
            "Dale-Chall Score: 8.577096491228069\n",
            "Difficult Words: 21\n",
            "Lexicon Count: 95\n",
            "Sentence Count: 6\n",
            "\n",
            "==== Reconstructed T5 ====\n",
            "Flesch Reading Ease: 79.4476884337754\n",
            "Flesch-Kincaid Grade: 4.9754843041799575\n",
            "Gunning Fog Index: 6.048749370488501\n",
            "SMOG Index: 6.8959733430537185\n",
            "Automated Readability Index: 3.816614557889597\n",
            "Dale-Chall Score: 7.426197431593084\n",
            "Difficult Words: 10\n",
            "Lexicon Count: 259\n",
            "Sentence Count: 23\n",
            "\n",
            "==== ChatGPT ====\n",
            "Flesch Reading Ease: 65.00500000000002\n",
            "Flesch-Kincaid Grade: 7.386507936507936\n",
            "Gunning Fog Index: 8.6984126984127\n",
            "SMOG Index: 9.606745405546679\n",
            "Automated Readability Index: 6.11593406593407\n",
            "Dale-Chall Score: 8.309436507936509\n",
            "Difficult Words: 21\n",
            "Lexicon Count: 90\n",
            "Sentence Count: 7\n"
          ]
        }
      ],
      "source": [
        "texts = {\n",
        "    \"Original\": original_text,\n",
        "    \"Reconstructed Pegasus\": reconstructed_pegasus,\n",
        "    \"Reconstructed Bart\": reconstructed_bart,\n",
        "    \"Reconstructed T5\": reconstructed_t5,\n",
        "    \"ChatGPT\": chatgpt_text\n",
        "}\n",
        "\n",
        "for name, text in texts.items():\n",
        "    print(f\"\\n==== {name} ====\")\n",
        "    report = get_text_quality_report(text)\n",
        "    for metric, value in report.items():\n",
        "        print(f\"{metric}: {value}\")"
      ]
    },
    {
      "cell_type": "code",
      "execution_count": 4,
      "metadata": {
        "colab": {
          "base_uri": "https://localhost:8080/"
        },
        "execution": {
          "iopub.execute_input": "2025-06-19T11:10:06.815406Z",
          "iopub.status.busy": "2025-06-19T11:10:06.815002Z",
          "iopub.status.idle": "2025-06-19T11:10:40.540695Z",
          "shell.execute_reply": "2025-06-19T11:10:40.538954Z",
          "shell.execute_reply.started": "2025-06-19T11:10:06.815381Z"
        },
        "id": "Qj4HrljHELjk",
        "outputId": "30204727-9974-49a5-c8b9-31601de58523",
        "trusted": true
      },
      "outputs": [
        {
          "name": "stderr",
          "output_type": "stream",
          "text": [
            "/usr/local/lib/python3.11/dist-packages/huggingface_hub/utils/_auth.py:94: UserWarning: \n",
            "The secret `HF_TOKEN` does not exist in your Colab secrets.\n",
            "To authenticate with the Hugging Face Hub, create a token in your settings tab (https://huggingface.co/settings/tokens), set it as secret in your Google Colab and restart your session.\n",
            "You will be able to reuse this secret in all of your notebooks.\n",
            "Please note that authentication is recommended but still optional to access public models or datasets.\n",
            "  warnings.warn(\n"
          ]
        }
      ],
      "source": [
        "from sentence_transformers import SentenceTransformer\n",
        "\n",
        "# Bert\n",
        "bert_model = SentenceTransformer('all-MiniLM-L6-v2')\n",
        "\n",
        "emb_original = bert_model.encode(original_text)\n",
        "emb_pegasus = bert_model.encode(reconstructed_pegasus)\n",
        "emb_bart = bert_model.encode(reconstructed_bart)\n",
        "emb_t5 = bert_model.encode(reconstructed_t5)\n",
        "emb_chatgpt = bert_model.encode(chatgpt_text)"
      ]
    },
    {
      "cell_type": "code",
      "execution_count": 34,
      "metadata": {
        "execution": {
          "iopub.execute_input": "2025-06-19T11:10:47.737470Z",
          "iopub.status.busy": "2025-06-19T11:10:47.737040Z",
          "iopub.status.idle": "2025-06-19T11:10:47.751214Z",
          "shell.execute_reply": "2025-06-19T11:10:47.749948Z",
          "shell.execute_reply.started": "2025-06-19T11:10:47.737439Z"
        },
        "id": "nRORIFnUELjl",
        "trusted": true
      },
      "outputs": [],
      "source": [
        "from sklearn.metrics.pairwise import cosine_similarity\n",
        "\n",
        "# Cosine similarity\n",
        "def cosine_sim(v1, v2):\n",
        "    return cosine_similarity([v1], [v2])[0][0]"
      ]
    },
    {
      "cell_type": "code",
      "execution_count": 33,
      "metadata": {
        "colab": {
          "base_uri": "https://localhost:8080/"
        },
        "id": "h_Mz735yqzXd",
        "outputId": "3db3d54e-6b7f-42ea-9d3f-b579aaccd060"
      },
      "outputs": [
        {
          "name": "stdout",
          "output_type": "stream",
          "text": [
            "Similarity Original vs Pegasus:  0.93753594\n",
            "Similarity Original vs Bart:  0.97796804\n",
            "Similarity Original vs T5:  0.7066157\n",
            "Similarity Original vs ChatGPT:  0.9658408\n"
          ]
        }
      ],
      "source": [
        "# BERT Cosine Similarity\n",
        "print(\"Similarity Original vs Pegasus: \", cosine_sim(emb_original, emb_pegasus))\n",
        "print(\"Similarity Original vs Bart: \", cosine_sim(emb_original, emb_bart))\n",
        "print(\"Similarity Original vs T5: \", cosine_sim(emb_original, emb_t5))\n",
        "print(\"Similarity Original vs ChatGPT: \", cosine_sim(emb_original, emb_chatgpt))"
      ]
    },
    {
      "cell_type": "code",
      "execution_count": 28,
      "metadata": {
        "execution": {
          "iopub.execute_input": "2025-06-19T11:11:52.550257Z",
          "iopub.status.busy": "2025-06-19T11:11:52.549796Z",
          "iopub.status.idle": "2025-06-19T11:11:54.438287Z",
          "shell.execute_reply": "2025-06-19T11:11:54.437262Z",
          "shell.execute_reply.started": "2025-06-19T11:11:52.550222Z"
        },
        "id": "-1Ll6a73ELjl",
        "trusted": true
      },
      "outputs": [],
      "source": [
        "import matplotlib.pyplot as plt\n",
        "from sklearn.decomposition import PCA\n",
        "\n",
        "def show_pca(embeddings, labels):\n",
        "    pca = PCA(n_components=2)\n",
        "    reduced = pca.fit_transform(embeddings)\n",
        "\n",
        "    plt.figure(figsize=(8,6))\n",
        "    for point, label in zip(reduced, labels):\n",
        "        plt.scatter(point[0], point[1], label=label)\n",
        "        plt.text(point[0]+0.01, point[1]+0.01, label)\n",
        "\n",
        "    plt.title(\"PCA of Sentence Embeddings\")\n",
        "    plt.legend()\n",
        "    plt.show()"
      ]
    },
    {
      "cell_type": "code",
      "execution_count": 30,
      "metadata": {
        "colab": {
          "base_uri": "https://localhost:8080/",
          "height": 545
        },
        "id": "Y-C4Ns4_qP43",
        "outputId": "cb4c9908-4f86-4c71-ce51-facf300cec97"
      },
      "outputs": [
        {
          "data": {
            "image/png": "[encoded data removed]",
            "text/plain": [
              "<Figure size 800x600 with 1 Axes>"
            ]
          },
          "metadata": {},
          "output_type": "display_data"
        }
      ],
      "source": [
        "# BERT PCA\n",
        "embeddings_bert = [emb_original, emb_pegasus, emb_bart, emb_t5, emb_chatgpt]\n",
        "labels = ['Original', 'Pegasus', 'Bart', 'T5', 'Chat']\n",
        "\n",
        "show_pca(embeddings_bert, labels)"
      ]
    },
    {
      "cell_type": "code",
      "execution_count": 9,
      "metadata": {
        "colab": {
          "base_uri": "https://localhost:8080/"
        },
        "id": "M8_HYhWEELjl",
        "outputId": "819864ad-d4d8-434a-d5ad-d4b123d86392",
        "trusted": true
      },
      "outputs": [
        {
          "name": "stdout",
          "output_type": "stream",
          "text": [
            "[==================================================] 100.0% 104.8/104.8MB downloaded\n"
          ]
        }
      ],
      "source": [
        "import gensim.downloader as api\n",
        "\n",
        "# Glove\n",
        "model = api.load(\"glove-twitter-25\")"
      ]
    },
    {
      "cell_type": "code",
      "execution_count": null,
      "metadata": {
        "colab": {
          "base_uri": "https://localhost:8080/"
        },
        "id": "OGUxaQdwELjl",
        "outputId": "970676ca-8a63-4d1a-9510-0c8fbb4c9699",
        "trusted": true
      },
      "outputs": [],
      "source": [
        "import numpy as np\n",
        "from nltk.tokenize import word_tokenize\n",
        "import nltk\n",
        "\n",
        "nltk.download('punkt')\n",
        "\n",
        "def sentence_embedding(text, model):\n",
        "    tokens = nltk.word_tokenize(text.lower())\n",
        "    vectors = [model[word] for word in tokens if word in model]\n",
        "    if vectors:\n",
        "        return np.mean(vectors, axis=0)\n",
        "    else:\n",
        "        return np.zeros(model.vector_size)"
      ]
    },
    {
      "cell_type": "code",
      "execution_count": 37,
      "metadata": {
        "id": "lyoaYAPPELjl",
        "trusted": true
      },
      "outputs": [],
      "source": [
        "original_vec = sentence_embedding(original_text, model)\n",
        "pegasus_vec = sentence_embedding(reconstructed_pegasus, model)\n",
        "bart_vec = sentence_embedding(reconstructed_bart, model)\n",
        "t5_vec = sentence_embedding(reconstructed_t5, model)\n",
        "chatgpt_vec = sentence_embedding(chatgpt_text, model)"
      ]
    },
    {
      "cell_type": "code",
      "execution_count": 38,
      "metadata": {
        "colab": {
          "base_uri": "https://localhost:8080/"
        },
        "id": "HcSVfLjBELjl",
        "outputId": "c91655fe-51d8-4c70-a2ef-1556ea7bb202",
        "trusted": true
      },
      "outputs": [
        {
          "name": "stdout",
          "output_type": "stream",
          "text": [
            "Similarity Original vs Pegasus: 0.9974544\n",
            "Similarity Original vs BART: 0.999684\n",
            "Similarity Original vs T5: 0.99760133\n",
            "Similarity Original vs ChatGPT: 0.9983543\n"
          ]
        }
      ],
      "source": [
        "# Glove Cosine Similarity\n",
        "print(\"Similarity Original vs Pegasus:\", cosine_sim(original_vec, pegasus_vec))\n",
        "print(\"Similarity Original vs BART:\", cosine_sim(original_vec, bart_vec))\n",
        "print(\"Similarity Original vs T5:\", cosine_sim(original_vec, t5_vec))\n",
        "print(\"Similarity Original vs ChatGPT:\", cosine_sim(original_vec, chatgpt_vec))"
      ]
    },
    {
      "cell_type": "code",
      "execution_count": 39,
      "metadata": {
        "colab": {
          "base_uri": "https://localhost:8080/",
          "height": 545
        },
        "id": "fUMDXXMUMV2p",
        "outputId": "56a7797f-c5e0-4018-eec2-b3be38d23fc9"
      },
      "outputs": [
        {
          "data": {
            "image/png": "[encoded data removed]",
            "text/plain": [
              "<Figure size 800x600 with 1 Axes>"
            ]
          },
          "metadata": {},
          "output_type": "display_data"
        }
      ],
      "source": [
        "# Glove PCA\n",
        "embeddings_glove = [original_vec, pegasus_vec, bart_vec, t5_vec, chatgpt_vec]\n",
        "labels = ['Original', 'Pegasus', 'Bart', 'T5', 'Chat']\n",
        "\n",
        "show_pca(embeddings_glove, labels)"
      ]
    },
    {
      "cell_type": "code",
      "execution_count": null,
      "metadata": {
        "id": "htSbOJ5bt3ES"
      },
      "outputs": [],
      "source": [
        "import re\n",
        "import nltk\n",
        "import numpy as np\n",
        "from nltk.corpus import stopwords, wordnet as wn\n",
        "from nltk.tokenize import word_tokenize\n",
        "from gensim.downloader import load\n",
        "from sklearn.metrics.pairwise import cosine_similarity\n",
        "import spacy"
      ]
    },
    {
      "cell_type": "code",
      "execution_count": 43,
      "metadata": {
        "id": "BmkrtN1et4fJ"
      },
      "outputs": [],
      "source": [
        "stop_words = set(stopwords.words('english'))\n",
        "nlp = spacy.load(\"en_core_web_sm\")\n",
        "embedding_model = load(\"glove-twitter-25\")"
      ]
    },
    {
      "cell_type": "code",
      "execution_count": 44,
      "metadata": {
        "id": "Vbw4RDQkuAiV"
      },
      "outputs": [],
      "source": [
        "def preprocess(text):\n",
        "    text = text.lower()\n",
        "    text = re.sub(r'[^a-z\\s]', '', text)\n",
        "    tokens = word_tokenize(text)\n",
        "    tokens = [t for t in tokens if t not in stop_words]\n",
        "    return tokens"
      ]
    },
    {
      "cell_type": "code",
      "execution_count": 45,
      "metadata": {
        "id": "bVjSmJ--uDAE"
      },
      "outputs": [],
      "source": [
        "def embed_sentence(tokens):\n",
        "    vectors = [embedding_model[t] for t in tokens if t in embedding_model]\n",
        "    if not vectors:\n",
        "        return np.zeros(embedding_model.vector_size)\n",
        "    return np.mean(vectors, axis=0)"
      ]
    },
    {
      "cell_type": "code",
      "execution_count": 46,
      "metadata": {
        "id": "Zn3mpQL8uFCB"
      },
      "outputs": [],
      "source": [
        "def build_vocab(texts):\n",
        "    vocab = set()\n",
        "    for t in texts:\n",
        "        tokens = preprocess(t)\n",
        "        vocab.update(tokens)\n",
        "    return vocab"
      ]
    },
    {
      "cell_type": "code",
      "execution_count": null,
      "metadata": {
        "id": "IbgC8NTauIyb"
      },
      "outputs": [],
      "source": [
        "# Can be used to show semantic tree structure of words\n",
        "def print_wordnet_info(word):\n",
        "    synsets = wn.synsets(word)\n",
        "    for s in synsets[:3]:  # Show first 3 senses\n",
        "        print(f\"WordNet: {s.name()} → {s.definition()}\")\n",
        "\n",
        "def print_dependencies(text):\n",
        "    doc = nlp(text)\n",
        "    for token in doc:\n",
        "        print(f\"{token.text} → {token.dep_} → {token.head.text}\")\n",
        "        \n",
        "# For example, to print dependencies of the original text\n",
        "print(\"Dependencies of Original Text:\")\n",
        "print_dependencies(original_text)"
      ]
    },
    {
      "cell_type": "code",
      "execution_count": 48,
      "metadata": {
        "id": "84rgGqWTuLdR"
      },
      "outputs": [],
      "source": [
        "def custom_pipeline(text):\n",
        "    tokens = preprocess(text)\n",
        "    embedding = embed_sentence(tokens)\n",
        "    print(f\"Tokens:\", tokens[:10])\n",
        "    print(f\"Embedding (sample):\", embedding[:5])\n",
        "    return embedding"
      ]
    },
    {
      "cell_type": "code",
      "execution_count": 49,
      "metadata": {
        "colab": {
          "base_uri": "https://localhost:8080/"
        },
        "id": "NvQKZAoguRSr",
        "outputId": "2928ca8e-c61a-4f39-ea6f-e496e9259b41"
      },
      "outputs": [
        {
          "name": "stdout",
          "output_type": "stream",
          "text": [
            "Tokens: ['today', 'dragon', 'boat', 'festival', 'chinese', 'culture', 'celebrate', 'safe', 'great', 'lives']\n",
            "Embedding (sample): [-0.16422953  0.43594432  0.05779614 -0.07363709  0.06018784]\n",
            "Tokens: ['today', 'dragon', 'boat', 'festival', 'china', 'want', 'celebrate', 'joyi', 'hope', 'enjoy']\n",
            "Embedding (sample): [-0.16970314  0.35035947  0.19975786 -0.15793677 -0.09879918]\n",
            "Tokens: ['today', 'dragon', 'boat', 'festival', 'chinese', 'culture', 'celebrate', 'safe', 'great', 'inour']\n",
            "Embedding (sample): [-0.2388032   0.44876862 -0.01464709 -0.1712665   0.08064518]\n",
            "Tokens: ['dragon', 'boat', 'festival', 'chinese', 'culture', 'today', 'dragon', 'boat', 'festival', 'dragon']\n",
            "Embedding (sample): [-0.11059062  0.30572605  0.14892441  0.0025523  -0.00055919]\n",
            "Tokens: ['today', 'dragon', 'boat', 'festival', 'chinese', 'culture', 'celebrate', 'wish', 'safety', 'greatness']\n",
            "Embedding (sample): [-0.16944383  0.43409616 -0.0466942  -0.11265766  0.00716945]\n"
          ]
        }
      ],
      "source": [
        "original_vec = custom_pipeline(original_text)\n",
        "pegasus_vec = custom_pipeline(reconstructed_pegasus)\n",
        "bart_vec = custom_pipeline(reconstructed_bart)\n",
        "t5_vec = custom_pipeline(reconstructed_t5)\n",
        "chatgpt_vec = custom_pipeline(chatgpt_text)"
      ]
    },
    {
      "cell_type": "code",
      "execution_count": 50,
      "metadata": {
        "colab": {
          "base_uri": "https://localhost:8080/"
        },
        "id": "3gc50lHXuoqA",
        "outputId": "bb750c2a-0a93-48a6-9f76-e120538219a1"
      },
      "outputs": [
        {
          "name": "stdout",
          "output_type": "stream",
          "text": [
            "Similarity Original vs Pegasus: 0.9936786\n",
            "Similarity Original vs BART: 0.9973004\n",
            "Similarity Original vs T5: 0.9904377\n",
            "Similarity Original vs ChatGPT: 0.99562913\n"
          ]
        }
      ],
      "source": [
        "print(\"Similarity Original vs Pegasus:\", cosine_sim(original_vec, pegasus_vec))\n",
        "print(\"Similarity Original vs BART:\", cosine_sim(original_vec, bart_vec))\n",
        "print(\"Similarity Original vs T5:\", cosine_sim(original_vec, t5_vec))\n",
        "print(\"Similarity Original vs ChatGPT:\", cosine_sim(original_vec, chatgpt_vec))"
      ]
    },
    {
      "cell_type": "code",
      "execution_count": 51,
      "metadata": {
        "colab": {
          "base_uri": "https://localhost:8080/",
          "height": 545
        },
        "id": "-1GheFTgwGLd",
        "outputId": "e9975fc1-9e8d-4b93-d50a-68b4117dc422"
      },
      "outputs": [
        {
          "data": {
            "image/png": "[encoded data removed]",
            "text/plain": [
              "<Figure size 800x600 with 1 Axes>"
            ]
          },
          "metadata": {},
          "output_type": "display_data"
        }
      ],
      "source": [
        "# Custom PCA\n",
        "embeddings_custom = [original_vec, pegasus_vec, bart_vec, t5_vec, chatgpt_vec]\n",
        "labels = ['Original', 'Pegasus', 'Bart', 'T5', 'Chat']\n",
        "\n",
        "show_pca(embeddings_custom, labels)"
      ]
    },
    {
      "cell_type": "code",
      "execution_count": 63,
      "metadata": {
        "id": "BvlaZDlXw3IC"
      },
      "outputs": [],
      "source": [
        "# End results\n",
        "original_bert = embeddings_bert[0]\n",
        "original_glove = embeddings_glove[0]\n",
        "original_custom = embeddings_custom[0]\n",
        "\n",
        "names = [\"Original\", \"Pegasus\", \"Bart\", \"T5\", \"ChatGPT\"]\n",
        "\n",
        "data = []\n",
        "\n",
        "for i in range(1,len(embeddings_bert)):\n",
        "    sim_bert = cosine_similarity([original_bert], [embeddings_bert[i]])[0][0]\n",
        "    sim_glove = cosine_similarity([original_glove], [embeddings_glove[i]])[0][0]\n",
        "    sim_custom = cosine_similarity([original_custom], [embeddings_custom[i]])[0][0]\n",
        "\n",
        "    data.append([names[i], sim_bert, sim_glove, sim_custom])"
      ]
    },
    {
      "cell_type": "code",
      "execution_count": 64,
      "metadata": {
        "colab": {
          "base_uri": "https://localhost:8080/"
        },
        "id": "P1IWuXej1jIa",
        "outputId": "e4c89e87-a945-43ea-9805-cb65fc23ab2c"
      },
      "outputs": [
        {
          "name": "stdout",
          "output_type": "stream",
          "text": [
            "  Model  Cosine BERT  Cosine GloVe  Cosine Custom\n",
            "Pegasus     0.937536      0.997454       0.993679\n",
            "   Bart     0.977968      0.999684       0.997300\n",
            "     T5     0.706616      0.997601       0.990438\n",
            "ChatGPT     0.965841      0.998354       0.995629\n"
          ]
        }
      ],
      "source": [
        "import pandas as pd\n",
        "\n",
        "df = pd.DataFrame(data, columns=[\n",
        "    \"Model\",\n",
        "    \"Cosine BERT\",\n",
        "    \"Cosine GloVe\",\n",
        "    \"Cosine Custom\",\n",
        "])\n",
        "\n",
        "# Display table\n",
        "print(df.to_string(index=False))"
      ]
    }
  ],
  "metadata": {
    "colab": {
      "provenance": []
    },
    "kaggle": {
      "accelerator": "none",
      "dataSources": [],
      "dockerImageVersionId": 31040,
      "isGpuEnabled": false,
      "isInternetEnabled": true,
      "language": "python",
      "sourceType": "notebook"
    },
    "kernelspec": {
      "display_name": "Python 3",
      "language": "python",
      "name": "python3"
    },
    "language_info": {
      "codemirror_mode": {
        "name": "ipython",
        "version": 3
      },
      "file_extension": ".py",
      "mimetype": "text/x-python",
      "name": "python",
      "nbconvert_exporter": "python",
      "pygments_lexer": "ipython3",
      "version": "3.11.11"
    }
  },
  "nbformat": 4,
  "nbformat_minor": 0
}
